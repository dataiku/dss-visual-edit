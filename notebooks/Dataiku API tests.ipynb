{
  "cells": [
    {
      "cell_type": "code",
      "execution_count": null,
      "metadata": {},
      "outputs": [],
      "source": [
        "%pylab inline"
      ]
    },
    {
      "cell_type": "code",
      "execution_count": null,
      "metadata": {},
      "outputs": [],
      "source": [
        "import os\n",
        "project_key = os.getenv(\"DKU_CURRENT_PROJECT_KEY\")"
      ]
    },
    {
      "cell_type": "code",
      "execution_count": null,
      "metadata": {},
      "outputs": [],
      "source": [
        "import dataiku\n",
        "import dataikuapi\n",
        "client = dataiku.api_client()\n",
        "project = client.get_default_project()\n",
        "DATASET_NAME = \"iris\"\n",
        "input_key = \"index\"\n",
        "original_ds = dataiku.Dataset(DATASET_NAME)\n",
        "original_df = original_ds.get_dataframe()\n",
        "connection_name = original_ds.get_config()['params']['connection'] # nom de la connexion SQL dataiku où aller récupérer la table\n",
        "changes_ds_name = DATASET_NAME + \"_changes\"\n",
        "editable_ds_name = DATASET_NAME + \"_editable\""
      ]
    },
    {
      "cell_type": "code",
      "execution_count": null,
      "metadata": {},
      "outputs": [],
      "source": [
        "client.get_own_user().get_settings().get_raw()"
      ]
    },
    {
      "cell_type": "markdown",
      "metadata": {},
      "source": [
        "## Create new datasets"
      ]
    },
    {
      "cell_type": "code",
      "execution_count": null,
      "metadata": {},
      "outputs": [],
      "source": [
        "changes_ds_creator = dataikuapi.dss.dataset.DSSManagedDatasetCreationHelper(project, changes_ds_name)\n",
        "changes_ds_creator.with_store_into(connection=\"filesystem_managed\")\n",
        "changes_ds_creator.create()"
      ]
    },
    {
      "cell_type": "code",
      "execution_count": null,
      "metadata": {},
      "outputs": [],
      "source": [
        "changes_ds = dataiku.Dataset(changes_ds_name)"
      ]
    },
    {
      "cell_type": "code",
      "execution_count": null,
      "metadata": {},
      "outputs": [],
      "source": [
        "changes_ds.write_schema_from_dataframe(df=original_df)"
      ]
    },
    {
      "cell_type": "code",
      "execution_count": null,
      "metadata": {},
      "outputs": [],
      "source": [
        "editable_ds_creator = dataikuapi.dss.dataset.DSSManagedDatasetCreationHelper(project, editable_ds_name)\n",
        "editable_ds_creator.with_store_into(connection=connection_name)\n",
        "editable_ds_creator.create()"
      ]
    },
    {
      "cell_type": "code",
      "execution_count": null,
      "metadata": {},
      "outputs": [],
      "source": [
        "editable_ds = dataiku.Dataset(editable_ds_name)"
      ]
    },
    {
      "cell_type": "code",
      "execution_count": null,
      "metadata": {},
      "outputs": [],
      "source": [
        "editable_ds.write_with_schema(original_df)"
      ]
    },
    {
      "cell_type": "markdown",
      "metadata": {},
      "source": [
        "## Get table name"
      ]
    },
    {
      "cell_type": "code",
      "execution_count": null,
      "metadata": {},
      "outputs": [],
      "source": [
        "editable_tablename = editable_ds.get_config()[\"params\"][\"table\"].replace(\"${projectKey}\", project_key).replace(\"${NODE}\", dataiku.get_custom_variables()[\"NODE\"])"
      ]
    },
    {
      "cell_type": "markdown",
      "metadata": {},
      "source": [
        "## SQL queries\n",
        "\n",
        "### Update row"
      ]
    },
    {
      "cell_type": "code",
      "execution_count": null,
      "metadata": {},
      "outputs": [],
      "source": [
        "idx = 0\n",
        "col_id = \"sepal_length\"\n",
        "val = 0"
      ]
    },
    {
      "cell_type": "code",
      "execution_count": null,
      "metadata": {},
      "outputs": [],
      "source": [
        "query = \"\"\"UPDATE \\\"{0}\\\" SET {1}={2}\n",
        "            WHERE {3}={4}\n",
        "            RETURNING {1};\n",
        "            COMMIT;\n",
        "            \"\"\".format(editable_tablename, col_id, val, input_key, idx)\n",
        "print(query)"
      ]
    },
    {
      "cell_type": "code",
      "execution_count": null,
      "metadata": {},
      "outputs": [],
      "source": [
        "from dataiku.core.sql import SQLExecutor2\n",
        "executor = SQLExecutor2(connection=connection_name)"
      ]
    },
    {
      "cell_type": "code",
      "execution_count": null,
      "metadata": {},
      "outputs": [],
      "source": [
        "result_df = executor.query_to_df(query)\n",
        "result_df"
      ]
    },
    {
      "cell_type": "markdown",
      "metadata": {},
      "source": [
        "### Retrieve lookup columns"
      ]
    },
    {
      "cell_type": "code",
      "execution_count": null,
      "metadata": {},
      "outputs": [],
      "source": [
        "ext_lookup_columns = [\"sepal_length\", \"sepal_width\"]\n",
        "ext_tablename = editable_tablename\n",
        "ext_key = \"index\"\n",
        "ext_idx = \"0\""
      ]
    },
    {
      "cell_type": "code",
      "execution_count": null,
      "metadata": {},
      "outputs": [],
      "source": [
        "select_query = \"SELECT \" \\\n",
        "    + \", \".join(ext_lookup_columns) \\\n",
        "    + \" FROM \\\"\" + ext_tablename \\\n",
        "    + \"\\\" WHERE \" + ext_key + \"=\" + ext_idx\n",
        "select_df = executor.query_to_df(select_query)"
      ]
    },
    {
      "cell_type": "code",
      "execution_count": null,
      "metadata": {},
      "outputs": [],
      "source": [
        "val = select_df.iloc[0][ext_lookup_columns[0]]\n",
        "print(val)"
      ]
    },
    {
      "cell_type": "markdown",
      "metadata": {},
      "source": [
        "### Update lookup columns"
      ]
    },
    {
      "cell_type": "code",
      "execution_count": null,
      "metadata": {},
      "outputs": [],
      "source": [
        "update_query = \"UPDATE \\\"\" + editable_tablename \\\n",
        "    + \"\\\" SET \" + \", \".join([col + \"=\" + str(select_df.iloc[0][col]) for col in ext_lookup_columns]) \\\n",
        "    + \" WHERE \" + ext_key + \"=\" + ext_idx \\\n",
        "    + \"; COMMIT;\"\n",
        "print(update_query)"
      ]
    },
    {
      "cell_type": "code",
      "execution_count": null,
      "metadata": {},
      "outputs": [],
      "source": [
        "executor.query_to_df(update_query)"
      ]
    },
    {
      "cell_type": "markdown",
      "metadata": {},
      "source": [
        "## Create a recipe"
      ]
    },
    {
      "cell_type": "code",
      "execution_count": null,
      "metadata": {},
      "outputs": [],
      "source": [
        "recipe_creator = dataikuapi.dss.recipe.DSSRecipeCreator(\"CustomCode_replay-edits\", \"compute_iris_editable\", project)\n",
        "recipe = recipe_creator.create()"
      ]
    },
    {
      "cell_type": "code",
      "execution_count": null,
      "metadata": {},
      "outputs": [],
      "source": [
        "settings = recipe.get_settings()\n",
        "settings.add_input(\"input\", \"iris\")\n",
        "settings.add_input(\"changes\", \"iris_changes\")\n",
        "settings.add_output(\"editable\", \"iris_editable\")\n",
        "settings.raw_params[\"customConfig\"] = {\"key\": \"index\"}\n",
        "settings.save()"
      ]
    },
    {
      "cell_type": "markdown",
      "metadata": {},
      "source": [
        "Alternative:\n",
        "\n",
        "```python\n",
        "recipe_creator.with_input(\"iris\", role=\"input\")\n",
        "recipe_creator.with_input(\"iris_changes\", role=\"changes\")\n",
        "recipe_creator.with_output(\"iris_editable\", role=\"editable\")\n",
        "```"
      ]
    },
    {
      "cell_type": "code",
      "execution_count": null,
      "metadata": {},
      "outputs": [],
      "source": [
        "recipe = project.get_recipe(\"compute_iris_editable\")"
      ]
    },
    {
      "cell_type": "code",
      "execution_count": null,
      "metadata": {},
      "outputs": [],
      "source": [
        "settings = recipe.get_settings()"
      ]
    }
  ],
  "metadata": {
    "createdOn": 1646839371306,
    "creator": "admin",
    "customFields": {},
    "hide_input": false,
    "kernelspec": {
      "display_name": "Python 3",
      "language": "python",
      "name": "python3"
    },
    "language_info": {
      "codemirror_mode": {
        "name": "ipython",
        "version": 3
      },
      "file_extension": ".py",
      "mimetype": "text/x-python",
      "name": "python",
      "nbconvert_exporter": "python",
      "pygments_lexer": "ipython3",
      "version": "3.7.9"
    },
    "modifiedBy": "admin",
    "tags": []
  },
  "nbformat": 4,
  "nbformat_minor": 1
}
