{
  "metadata": {
    "kernelspec": {
      "name": "python3",
      "display_name": "Python 3",
      "language": "python"
    },
    "creator": "admin",
    "createdOn": 1646839371306,
    "tags": [],
    "customFields": {},
    "hide_input": false,
    "language_info": {
      "name": "python",
      "version": "3.7.9",
      "mimetype": "text/x-python",
      "codemirror_mode": {
        "name": "ipython",
        "version": 3
      },
      "pygments_lexer": "ipython3",
      "nbconvert_exporter": "python",
      "file_extension": ".py"
    },
    "modifiedBy": "admin"
  },
  "nbformat": 4,
  "nbformat_minor": 1,
  "cells": [
    {
      "execution_count": 0,
      "cell_type": "code",
      "metadata": {},
      "source": [
        "%pylab inline"
      ],
      "outputs": []
    },
    {
      "execution_count": 0,
      "cell_type": "code",
      "metadata": {},
      "source": [
        "import dataiku\nimport dataikuapi\nimport pandas as pd\nfrom dataiku.core.sql import SQLExecutor2\n\nclient \u003d dataiku.api_client()\nproject \u003d client.get_default_project()\nDATASET_NAME \u003d \"iris\"\noriginal_ds \u003d dataiku.Dataset(DATASET_NAME)\noriginal_df \u003d original_ds.get_dataframe()\nconnection_name \u003d original_ds.get_config()[\u0027params\u0027][\u0027connection\u0027] # nom de la connexion SQL dataiku où aller récupérer la table"
      ],
      "outputs": []
    },
    {
      "execution_count": 0,
      "cell_type": "code",
      "metadata": {},
      "source": [
        "changes_ds_name \u003d DATASET_NAME + \"_changes\"\nchanges_ds_creator \u003d dataikuapi.dss.dataset.DSSManagedDatasetCreationHelper(project, changes_ds_name)\nchanges_ds_creator.with_store_into(connection\u003d\"filesystem_managed\")\nchanges_ds_creator.create()\nchanges_ds \u003d dataiku.Dataset(changes_ds_name)\nchanges_ds.write_schema_from_dataframe(df\u003doriginal_df)"
      ],
      "outputs": []
    },
    {
      "execution_count": 0,
      "cell_type": "code",
      "metadata": {},
      "source": [
        "editable_ds_name \u003d DATASET_NAME + \"_editable\"\neditable_ds_creator \u003d dataikuapi.dss.dataset.DSSManagedDatasetCreationHelper(project, editable_ds_name)\neditable_ds_creator.with_store_into(connection\u003dconnection_name) # TODO: make this configurable\neditable_ds_creator.create()\neditable_ds \u003d dataiku.Dataset(editable_ds_name)\neditable_ds.write_with_schema(original_df)"
      ],
      "outputs": []
    },
    {
      "execution_count": 0,
      "cell_type": "code",
      "metadata": {},
      "source": [
        "recipe_creator \u003d dataikuapi.dss.recipe.DSSRecipeCreator(\"CustomCode_sync-and-apply-changes\", \"compute_iris_editable\", project)\nrecipe \u003d recipe_creator.create()"
      ],
      "outputs": []
    },
    {
      "execution_count": 0,
      "cell_type": "code",
      "metadata": {},
      "source": [
        "settings \u003d recipe.get_settings()\nsettings.add_input(\"input\", \"iris\")\nsettings.add_input(\"changes\", \"iris_changes\")\nsettings.add_output(\"editable\", \"iris_editable\")\nsettings.raw_params[\"customConfig\"] \u003d {\"key\": \"index\"}\nsettings.save()"
      ],
      "outputs": []
    },
    {
      "cell_type": "markdown",
      "metadata": {},
      "source": [
        "Alternative:\n\n```python\nrecipe_creator.with_input(\"iris\", role\u003d\"input\")\nrecipe_creator.with_input(\"iris_changes\", role\u003d\"changes\")\nrecipe_creator.with_output(\"iris_editable\", role\u003d\"editable\")\n```"
      ]
    },
    {
      "execution_count": 0,
      "cell_type": "code",
      "metadata": {},
      "source": [
        "recipe \u003d project.get_recipe(\"compute_iris_editable\")"
      ],
      "outputs": []
    },
    {
      "execution_count": 0,
      "cell_type": "code",
      "metadata": {},
      "source": [
        "settings \u003d recipe.get_settings()"
      ],
      "outputs": []
    }
  ]
}