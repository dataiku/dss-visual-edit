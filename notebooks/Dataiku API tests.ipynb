{
  "cells": [
    {
      "cell_type": "code",
      "execution_count": null,
      "metadata": {},
      "outputs": [],
      "source": [
        "%pylab inline"
      ]
    },
    {
      "cell_type": "code",
      "execution_count": null,
      "metadata": {},
      "outputs": [],
      "source": [
        "import dataiku\n",
        "import dataikuapi\n",
        "\n",
        "client = dataiku.api_client()"
      ]
    },
    {
      "cell_type": "code",
      "execution_count": null,
      "metadata": {},
      "outputs": [],
      "source": [
        "client.get_general_settings()"
      ]
    },
    {
      "cell_type": "code",
      "execution_count": null,
      "metadata": {},
      "outputs": [],
      "source": [
        "import os\n",
        "\n",
        "project_key = os.getenv(\"DKU_CURRENT_PROJECT_KEY\")"
      ]
    },
    {
      "cell_type": "code",
      "execution_count": null,
      "metadata": {},
      "outputs": [],
      "source": [
        "project_key = \"STAKEHOLDER_OWNERSHIP\""
      ]
    },
    {
      "cell_type": "code",
      "execution_count": null,
      "metadata": {},
      "outputs": [],
      "source": [
        "dataset_name = \"stakeholders_tbc_prepared\"\n",
        "editlog_ds_name = dataset_name + \"_editlog\"\n",
        "original_ds = dataiku.Dataset(dataset_name, project_key)\n",
        "editlog_ds = dataiku.Dataset(editlog_ds_name, project_key)"
      ]
    },
    {
      "cell_type": "code",
      "execution_count": null,
      "metadata": {},
      "outputs": [],
      "source": [
        "original_df = original_ds.get_dataframe()"
      ]
    },
    {
      "cell_type": "code",
      "execution_count": null,
      "metadata": {},
      "outputs": [],
      "source": [
        "editlog_ds"
      ]
    },
    {
      "cell_type": "code",
      "execution_count": null,
      "metadata": {},
      "outputs": [],
      "source": [
        "editlog_df = editlog_ds.get_dataframe()"
      ]
    },
    {
      "cell_type": "markdown",
      "metadata": {},
      "source": [
        "## Create new datasets"
      ]
    },
    {
      "cell_type": "code",
      "execution_count": null,
      "metadata": {},
      "outputs": [],
      "source": [
        "project = client.get_default_project()"
      ]
    },
    {
      "cell_type": "code",
      "execution_count": null,
      "metadata": {},
      "outputs": [],
      "source": [
        "changes_ds_creator = dataikuapi.dss.dataset.DSSManagedDatasetCreationHelper(\n",
        "    project, changes_ds_name\n",
        ")\n",
        "changes_ds_creator.with_store_into(connection=\"filesystem_managed\")\n",
        "changes_ds_creator.create()"
      ]
    },
    {
      "cell_type": "code",
      "execution_count": null,
      "metadata": {},
      "outputs": [],
      "source": [
        "changes_ds = dataiku.Dataset(changes_ds_name)"
      ]
    },
    {
      "cell_type": "code",
      "execution_count": null,
      "metadata": {},
      "outputs": [],
      "source": [
        "changes_ds.write_schema_from_dataframe(df=original_df)"
      ]
    },
    {
      "cell_type": "code",
      "execution_count": null,
      "metadata": {},
      "outputs": [],
      "source": [
        "editable_ds_creator = dataikuapi.dss.dataset.DSSManagedDatasetCreationHelper(\n",
        "    project, editable_ds_name\n",
        ")\n",
        "editable_ds_creator.with_store_into(connection=connection_name)\n",
        "editable_ds_creator.create()"
      ]
    },
    {
      "cell_type": "code",
      "execution_count": null,
      "metadata": {},
      "outputs": [],
      "source": [
        "editable_ds = dataiku.Dataset(editable_ds_name)"
      ]
    },
    {
      "cell_type": "code",
      "execution_count": null,
      "metadata": {},
      "outputs": [],
      "source": [
        "editable_ds.write_with_schema(original_df)"
      ]
    },
    {
      "cell_type": "markdown",
      "metadata": {},
      "source": [
        "## Get table name"
      ]
    },
    {
      "cell_type": "code",
      "execution_count": null,
      "metadata": {},
      "outputs": [],
      "source": [
        "editable_tablename = (\n",
        "    editable_ds.get_config()[\"params\"][\"table\"]\n",
        "    .replace(\"${projectKey}\", project_key)\n",
        "    .replace(\"${NODE}\", dataiku.get_custom_variables()[\"NODE\"])\n",
        ")"
      ]
    },
    {
      "cell_type": "markdown",
      "metadata": {},
      "source": [
        "## SQL queries\n",
        "\n",
        "### Update row"
      ]
    },
    {
      "cell_type": "code",
      "execution_count": null,
      "metadata": {},
      "outputs": [],
      "source": [
        "idx = 0\n",
        "col_id = \"sepal_length\"\n",
        "val = 0"
      ]
    },
    {
      "cell_type": "code",
      "execution_count": null,
      "metadata": {},
      "outputs": [],
      "source": [
        "INPUT_KEY = \"index\"\n",
        "query = \"\"\"UPDATE \\\"{0}\\\" SET {1}={2}\n",
        "            WHERE {3}={4}\n",
        "            RETURNING {1};\n",
        "            COMMIT;\n",
        "            \"\"\".format(\n",
        "    editable_tablename, col_id, val, INPUT_KEY, idx\n",
        ")\n",
        "print(query)"
      ]
    },
    {
      "cell_type": "code",
      "execution_count": null,
      "metadata": {},
      "outputs": [],
      "source": [
        "from dataiku.core.sql import SQLExecutor2\n",
        "\n",
        "connection_name = original_ds.get_config()[\"params\"][\"connection\"]\n",
        "executor = SQLExecutor2(connection=connection_name)"
      ]
    },
    {
      "cell_type": "code",
      "execution_count": null,
      "metadata": {},
      "outputs": [],
      "source": [
        "result_df = executor.query_to_df(query)\n",
        "result_df"
      ]
    },
    {
      "cell_type": "markdown",
      "metadata": {},
      "source": [
        "### Retrieve lookup columns"
      ]
    },
    {
      "cell_type": "code",
      "execution_count": null,
      "metadata": {},
      "outputs": [],
      "source": [
        "ext_lookup_columns = [\"sepal_length\", \"sepal_width\"]\n",
        "ext_tablename = editable_tablename\n",
        "ext_key = \"index\"\n",
        "ext_idx = \"0\""
      ]
    },
    {
      "cell_type": "code",
      "execution_count": null,
      "metadata": {},
      "outputs": [],
      "source": [
        "select_query = (\n",
        "    \"SELECT \"\n",
        "    + \", \".join(ext_lookup_columns)\n",
        "    + ' FROM \"'\n",
        "    + ext_tablename\n",
        "    + '\" WHERE '\n",
        "    + ext_key\n",
        "    + \"=\"\n",
        "    + ext_idx\n",
        ")\n",
        "select_df = executor.query_to_df(select_query)"
      ]
    },
    {
      "cell_type": "code",
      "execution_count": null,
      "metadata": {},
      "outputs": [],
      "source": [
        "val = select_df.iloc[0][ext_lookup_columns[0]]\n",
        "print(val)"
      ]
    },
    {
      "cell_type": "markdown",
      "metadata": {},
      "source": [
        "### Update lookup columns"
      ]
    },
    {
      "cell_type": "code",
      "execution_count": null,
      "metadata": {},
      "outputs": [],
      "source": [
        "update_query = (\n",
        "    'UPDATE \"'\n",
        "    + editable_tablename\n",
        "    + '\" SET '\n",
        "    + \", \".join([col + \"=\" + str(select_df.iloc[0][col]) for col in ext_lookup_columns])\n",
        "    + \" WHERE \"\n",
        "    + ext_key\n",
        "    + \"=\"\n",
        "    + ext_idx\n",
        "    + \"; COMMIT;\"\n",
        ")\n",
        "print(update_query)"
      ]
    },
    {
      "cell_type": "code",
      "execution_count": null,
      "metadata": {},
      "outputs": [],
      "source": [
        "executor.query_to_df(update_query)"
      ]
    },
    {
      "cell_type": "markdown",
      "metadata": {},
      "source": [
        "## Create a recipe"
      ]
    },
    {
      "cell_type": "code",
      "execution_count": null,
      "metadata": {},
      "outputs": [],
      "source": [
        "recipe_creator = dataikuapi.dss.recipe.DSSRecipeCreator(\n",
        "    \"CustomCode_replay-edits\", \"compute_iris_editable\", project\n",
        ")\n",
        "recipe = recipe_creator.create()"
      ]
    },
    {
      "cell_type": "code",
      "execution_count": null,
      "metadata": {},
      "outputs": [],
      "source": [
        "settings = recipe.get_settings()\n",
        "settings.add_input(\"input\", \"iris\")\n",
        "settings.add_input(\"changes\", \"iris_changes\")\n",
        "settings.add_output(\"editable\", \"iris_editable\")\n",
        "settings.raw_params[\"customConfig\"] = {\"key\": \"index\"}\n",
        "settings.save()"
      ]
    },
    {
      "cell_type": "markdown",
      "metadata": {},
      "source": [
        "Alternative:\n",
        "\n",
        "```python\n",
        "recipe_creator.with_input(\"iris\", role=\"input\")\n",
        "recipe_creator.with_input(\"iris_changes\", role=\"changes\")\n",
        "recipe_creator.with_output(\"iris_editable\", role=\"editable\")\n",
        "```"
      ]
    },
    {
      "cell_type": "code",
      "execution_count": null,
      "metadata": {},
      "outputs": [],
      "source": [
        "recipe = project.get_recipe(\"compute_iris_editable\")"
      ]
    },
    {
      "cell_type": "code",
      "execution_count": null,
      "metadata": {},
      "outputs": [],
      "source": [
        "settings = recipe.get_settings()"
      ]
    }
  ],
  "metadata": {
    "createdOn": 1646839371306,
    "creator": "admin",
    "customFields": {},
    "hide_input": false,
    "kernelspec": {
      "display_name": "Python 3.9.5 ('base')",
      "language": "python",
      "name": "python3"
    },
    "language_info": {
      "codemirror_mode": {
        "name": "ipython",
        "version": 3
      },
      "file_extension": ".py",
      "mimetype": "text/x-python",
      "name": "python",
      "nbconvert_exporter": "python",
      "pygments_lexer": "ipython3",
      "version": "3.9.5"
    },
    "modifiedBy": "admin",
    "tags": [],
    "vscode": {
      "interpreter": {
        "hash": "c30f2af5f468e7f5b45bcc30fca5f4886c90d54777aed916ed5f6294dfb24bf2"
      }
    }
  },
  "nbformat": 4,
  "nbformat_minor": 1
}
