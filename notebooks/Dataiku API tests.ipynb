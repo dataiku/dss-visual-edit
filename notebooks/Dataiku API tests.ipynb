{
  "metadata": {
    "kernelspec": {
      "name": "python3",
      "display_name": "Python 3",
      "language": "python"
    },
    "creator": "admin",
    "createdOn": 1646839371306,
    "tags": [],
    "customFields": {},
    "hide_input": false,
    "language_info": {
      "name": "python",
      "version": "3.7.9",
      "mimetype": "text/x-python",
      "codemirror_mode": {
        "name": "ipython",
        "version": 3
      },
      "pygments_lexer": "ipython3",
      "nbconvert_exporter": "python",
      "file_extension": ".py"
    },
    "modifiedBy": "admin"
  },
  "nbformat": 4,
  "nbformat_minor": 1,
  "cells": [
    {
      "execution_count": 0,
      "cell_type": "code",
      "metadata": {},
      "source": [
        "%pylab inline"
      ],
      "outputs": []
    },
    {
      "execution_count": 0,
      "cell_type": "code",
      "metadata": {},
      "source": [
        "import os\nproject_key \u003d os.getenv(\"DKU_CURRENT_PROJECT_KEY\")"
      ],
      "outputs": []
    },
    {
      "execution_count": 0,
      "cell_type": "code",
      "metadata": {},
      "source": [
        "import dataiku\nimport dataikuapi\nclient \u003d dataiku.api_client()\nproject \u003d client.get_default_project()\nDATASET_NAME \u003d \"iris\"\ninput_key \u003d \"index\"\noriginal_ds \u003d dataiku.Dataset(DATASET_NAME)\noriginal_df \u003d original_ds.get_dataframe()\nconnection_name \u003d original_ds.get_config()[\u0027params\u0027][\u0027connection\u0027] # nom de la connexion SQL dataiku où aller récupérer la table\nchanges_ds_name \u003d DATASET_NAME + \"_changes\"\neditable_ds_name \u003d DATASET_NAME + \"_editable\""
      ],
      "outputs": []
    },
    {
      "execution_count": 0,
      "cell_type": "code",
      "metadata": {},
      "source": [
        "client.get_own_user().get_settings().get_raw()"
      ],
      "outputs": []
    },
    {
      "cell_type": "markdown",
      "metadata": {},
      "source": [
        "## Create new datasets"
      ]
    },
    {
      "execution_count": 0,
      "cell_type": "code",
      "metadata": {},
      "source": [
        "changes_ds_creator \u003d dataikuapi.dss.dataset.DSSManagedDatasetCreationHelper(project, changes_ds_name)\nchanges_ds_creator.with_store_into(connection\u003d\"filesystem_managed\")\nchanges_ds_creator.create()"
      ],
      "outputs": []
    },
    {
      "execution_count": 0,
      "cell_type": "code",
      "metadata": {},
      "source": [
        "changes_ds \u003d dataiku.Dataset(changes_ds_name)"
      ],
      "outputs": []
    },
    {
      "execution_count": 0,
      "cell_type": "code",
      "metadata": {},
      "source": [
        "changes_ds.write_schema_from_dataframe(df\u003doriginal_df)"
      ],
      "outputs": []
    },
    {
      "execution_count": 0,
      "cell_type": "code",
      "metadata": {},
      "source": [
        "editable_ds_creator \u003d dataikuapi.dss.dataset.DSSManagedDatasetCreationHelper(project, editable_ds_name)\neditable_ds_creator.with_store_into(connection\u003dconnection_name) # TODO: make this configurable\neditable_ds_creator.create()"
      ],
      "outputs": []
    },
    {
      "execution_count": 0,
      "cell_type": "code",
      "metadata": {},
      "source": [
        "editable_ds \u003d dataiku.Dataset(editable_ds_name)"
      ],
      "outputs": []
    },
    {
      "execution_count": 0,
      "cell_type": "code",
      "metadata": {},
      "source": [
        "editable_ds.write_with_schema(original_df)"
      ],
      "outputs": []
    },
    {
      "cell_type": "markdown",
      "metadata": {},
      "source": [
        "## Get table name"
      ]
    },
    {
      "execution_count": 0,
      "cell_type": "code",
      "metadata": {},
      "source": [
        "editable_tablename \u003d editable_ds.get_config()[\u0027params\u0027][\u0027table\u0027].replace(\"${projectKey}\", project_key)\nprint(editable_tablename)"
      ],
      "outputs": []
    },
    {
      "cell_type": "markdown",
      "metadata": {},
      "source": [
        "## SQL queries\n\n### Update row"
      ]
    },
    {
      "execution_count": 0,
      "cell_type": "code",
      "metadata": {},
      "source": [
        "idx \u003d 0\ncol_id \u003d \"sepal_length\"\nval \u003d 0"
      ],
      "outputs": []
    },
    {
      "execution_count": 0,
      "cell_type": "code",
      "metadata": {},
      "source": [
        "query \u003d \"\"\"UPDATE \\\"{0}\\\" SET {1}\u003d{2}\n            WHERE {3}\u003d{4}\n            RETURNING {1};\n            COMMIT;\n            \"\"\".format(editable_tablename, col_id, val, input_key, idx)\nprint(query)"
      ],
      "outputs": []
    },
    {
      "execution_count": 0,
      "cell_type": "code",
      "metadata": {},
      "source": [
        "from dataiku.core.sql import SQLExecutor2\nexecutor \u003d SQLExecutor2(connection\u003dconnection_name)"
      ],
      "outputs": []
    },
    {
      "execution_count": 0,
      "cell_type": "code",
      "metadata": {},
      "source": [
        "result_df \u003d executor.query_to_df(query)\nresult_df"
      ],
      "outputs": []
    },
    {
      "cell_type": "markdown",
      "metadata": {},
      "source": [
        "### Retrieve lookup columns"
      ]
    },
    {
      "execution_count": 0,
      "cell_type": "code",
      "metadata": {},
      "source": [
        "ext_lookup_columns \u003d [\"sepal_length\", \"sepal_width\"]\next_tablename \u003d editable_tablename\next_key \u003d \"index\"\next_idx \u003d \"0\""
      ],
      "outputs": []
    },
    {
      "execution_count": 0,
      "cell_type": "code",
      "metadata": {},
      "source": [
        "select_query \u003d \"SELECT \" \\\n    + \", \".join(ext_lookup_columns) \\\n    + \" FROM \\\"\" + ext_tablename \\\n    + \"\\\" WHERE \" + ext_key + \"\u003d\" + ext_idx\nselect_df \u003d executor.query_to_df(select_query)"
      ],
      "outputs": []
    },
    {
      "execution_count": 0,
      "cell_type": "code",
      "metadata": {},
      "source": [
        "val \u003d select_df.iloc[0][ext_lookup_columns[0]]\nprint(val)"
      ],
      "outputs": []
    },
    {
      "cell_type": "markdown",
      "metadata": {},
      "source": [
        "### Update lookup columns"
      ]
    },
    {
      "execution_count": 0,
      "cell_type": "code",
      "metadata": {},
      "source": [
        "update_query \u003d \"UPDATE \\\"\" + editable_tablename \\\n    + \"\\\" SET \" + \", \".join([col + \"\u003d\" + str(select_df.iloc[0][col]) for col in ext_lookup_columns]) \\\n    + \" WHERE \" + ext_key + \"\u003d\" + ext_idx \\\n    + \"; COMMIT;\"\nprint(update_query)"
      ],
      "outputs": []
    },
    {
      "execution_count": 0,
      "cell_type": "code",
      "metadata": {},
      "source": [
        "executor.query_to_df(update_query)"
      ],
      "outputs": []
    },
    {
      "cell_type": "markdown",
      "metadata": {},
      "source": [
        "## Create a recipe"
      ]
    },
    {
      "execution_count": 0,
      "cell_type": "code",
      "metadata": {},
      "source": [
        "recipe_creator \u003d dataikuapi.dss.recipe.DSSRecipeCreator(\"CustomCode_sync-and-apply-changes\", \"compute_iris_editable\", project)\nrecipe \u003d recipe_creator.create()"
      ],
      "outputs": []
    },
    {
      "execution_count": 0,
      "cell_type": "code",
      "metadata": {},
      "source": [
        "settings \u003d recipe.get_settings()\nsettings.add_input(\"input\", \"iris\")\nsettings.add_input(\"changes\", \"iris_changes\")\nsettings.add_output(\"editable\", \"iris_editable\")\nsettings.raw_params[\"customConfig\"] \u003d {\"key\": \"index\"}\nsettings.save()"
      ],
      "outputs": []
    },
    {
      "cell_type": "markdown",
      "metadata": {},
      "source": [
        "Alternative:\n\n```python\nrecipe_creator.with_input(\"iris\", role\u003d\"input\")\nrecipe_creator.with_input(\"iris_changes\", role\u003d\"changes\")\nrecipe_creator.with_output(\"iris_editable\", role\u003d\"editable\")\n```"
      ]
    },
    {
      "execution_count": 0,
      "cell_type": "code",
      "metadata": {},
      "source": [
        "recipe \u003d project.get_recipe(\"compute_iris_editable\")"
      ],
      "outputs": []
    },
    {
      "execution_count": 0,
      "cell_type": "code",
      "metadata": {},
      "source": [
        "settings \u003d recipe.get_settings()"
      ],
      "outputs": []
    }
  ]
}