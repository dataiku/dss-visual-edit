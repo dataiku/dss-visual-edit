{
 "cells": [
  {
   "cell_type": "markdown",
   "metadata": {},
   "source": [
    "## Imports and setup"
   ]
  },
  {
   "cell_type": "code",
   "execution_count": 0,
   "metadata": {},
   "outputs": [],
   "source": [
    "import dataiku\n",
    "dataiku.use_plugin_libs(\"visual-edit\")\n",
    "commons = dataiku.import_from_plugin(\"visual-edit\", \"commons\")"
   ]
  },
  {
   "cell_type": "code",
   "execution_count": 0,
   "metadata": {},
   "outputs": [],
   "source": [
    "original_ds_name = \"match_suggestions_prepared\"\n",
    "original_ds = dataiku.Dataset(original_ds_name)"
   ]
  },
  {
   "cell_type": "markdown",
   "metadata": {},
   "source": [
    "## Replay edits"
   ]
  },
  {
   "cell_type": "code",
   "execution_count": 0,
   "metadata": {},
   "outputs": [],
   "source": [
    "editlog_ds = dataiku.Dataset(original_ds_name + \"_editlog\")\n",
    "primary_keys = editlog_ds.get_config()[\"customFields\"][\"primary_keys\"]\n",
    "editable_column_names = editlog_ds.get_config()[\"customFields\"][\"editable_column_names\"]\n",
    "validation_column_required = editlog_ds.get_config()[\"customFields\"][\"validation_column_required\"]\n",
    "notes_column_required = editlog_ds.get_config()[\"customFields\"][\"notes_column_required\"]\n",
    "replayed_edits_df = commons.replay_edits(editlog_ds, primary_keys, editable_column_names, validation_column_required, notes_column_required)\n",
    "replayed_edits_df"
   ]
  },
  {
   "cell_type": "code",
   "execution_count": 0,
   "metadata": {},
   "outputs": [],
   "source": [
    "replayed_edits_df.dtypes"
   ]
  },
  {
   "cell_type": "markdown",
   "metadata": {},
   "source": [
    "## Apply edits\n",
    "\n",
    "### From replayed edits DataFrame"
   ]
  },
  {
   "cell_type": "code",
   "execution_count": 0,
   "metadata": {},
   "outputs": [],
   "source": [
    "replayed_edited_df = commons.apply_edits_from_df(original_ds, replayed_edits_df)"
   ]
  },
  {
   "cell_type": "markdown",
   "metadata": {},
   "source": [
    "### From edits dataset\n",
    "\n",
    "Make sure to build the edits dataset in the Flow, as a 1st step."
   ]
  },
  {
   "cell_type": "code",
   "execution_count": 0,
   "metadata": {},
   "outputs": [],
   "source": [
    "edits_ds = dataiku.Dataset(original_ds_name + \"_edits\")\n",
    "edits_df = commons.get_dataframe(edits_ds)\n",
    "edits_df"
   ]
  },
  {
   "cell_type": "code",
   "execution_count": 0,
   "metadata": {},
   "outputs": [],
   "source": [
    "edits_df.dtypes"
   ]
  },
  {
   "cell_type": "code",
   "execution_count": 0,
   "metadata": {},
   "outputs": [],
   "source": [
    "edited_df = commons.apply_edits_from_df(original_ds, edits_df)"
   ]
  },
  {
   "cell_type": "code",
   "execution_count": 0,
   "metadata": {},
   "outputs": [],
   "source": []
  }
 ],
 "metadata": {
  "createdOn": 1747325770787,
  "creator": "louis.dorard@dataiku.com",
  "customFields": {},
  "hide_input": false,
  "kernelspec": {
   "display_name": "Python 3 (ipykernel)",
   "language": "python",
   "name": "python3"
  },
  "language_info": {
   "codemirror_mode": {
    "name": "ipython",
    "version": 3
   },
   "file_extension": ".py",
   "mimetype": "text/x-python",
   "name": "python",
   "nbconvert_exporter": "python",
   "pygments_lexer": "ipython3",
   "version": "3.9.20"
  },
  "modifiedBy": "louis.dorard@dataiku.com",
  "tags": []
 },
 "nbformat": 4,
 "nbformat_minor": 1
}
