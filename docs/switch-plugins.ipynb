{
 "cells": [
  {
   "cell_type": "markdown",
   "metadata": {},
   "source": [
    "# Step 0: Initialize project\n",
    "\n",
    "Initialize `dataiku` client and project to the default one (i.e. the current one)."
   ]
  },
  {
   "cell_type": "code",
   "execution_count": 0,
   "metadata": {},
   "outputs": [],
   "source": [
    "import dataiku\n",
    "\n",
    "dss_client = dataiku.api_client()\n",
    "project = dss_client.get_default_project()"
   ]
  },
  {
   "cell_type": "markdown",
   "metadata": {},
   "source": [
    "Confirm project key:"
   ]
  },
  {
   "cell_type": "code",
   "execution_count": 0,
   "metadata": {},
   "outputs": [],
   "source": [
    "project.project_key"
   ]
  },
  {
   "cell_type": "markdown",
   "metadata": {},
   "source": [
    "# Step 1: Delete old plugin recipes\n",
    "\n",
    "WARNING: Do not use this if you manually added or modified plugin recipes.\n",
    "\n",
    "The block below deletes recipes whose types are the ones of the old `editable-via-webapp` plugin. This is ok when those recipes had been created automatically by the plugin's Visual Webapp: they will be automatically recreated when we update and restart the Webapp at Step 3, based on the new plugin."
   ]
  },
  {
   "cell_type": "code",
   "execution_count": 0,
   "metadata": {},
   "outputs": [],
   "source": [
    "for recipe in project.list_recipes(as_type=\"objects\"):\n",
    "    # print(recipe)\n",
    "    recipe_type = recipe.get_settings().type\n",
    "    if (\n",
    "        recipe_type == \"CustomCode_merge-edits\"\n",
    "        or recipe_type == \"CustomCode_pivot-editlog\"\n",
    "    ):\n",
    "        recipe.delete()"
   ]
  },
  {
   "cell_type": "markdown",
   "metadata": {},
   "source": [
    "# Step 2: Rename datasets\n",
    "\n",
    "Rename all datasets ending with `_editlog_pivoted` to end with `_edits`:"
   ]
  },
  {
   "cell_type": "code",
   "execution_count": 0,
   "metadata": {},
   "outputs": [],
   "source": [
    "for d in project.list_datasets():\n",
    "    dataset_name = d[\"name\"]\n",
    "    dataset = project.get_dataset(dataset_name)\n",
    "    # if the name ends with '_editlog_pivoted', rename it to change the suffix to '_edits'\n",
    "    if dataset_name.endswith(\"_editlog_pivoted\"):\n",
    "        new_name = dataset_name.replace(\"_editlog_pivoted\", \"_edits\")\n",
    "        # add to list of datasets to build\n",
    "        dataset.rename(new_name)\n",
    "        print(f\"Renamed {dataset_name} to {new_name}\")"
   ]
  },
  {
   "cell_type": "markdown",
   "metadata": {},
   "source": [
    "# Step 3: Change Visual Webapps' type\n",
    "\n",
    "- Stop the \"data editing\" Visual Webapps provided by the old `editable-via-webapp` plugin;\n",
    "- Change their type to the one provided by the new `visual-edit` plugin;\n",
    "- Restart them: this re-creates the recipes we deleted but with the types from the new plugin."
   ]
  },
  {
   "cell_type": "code",
   "execution_count": 0,
   "metadata": {},
   "outputs": [],
   "source": [
    "for webapp in project.list_webapps(as_type=\"objects\"):\n",
    "    webapp_settings = webapp.get_settings()\n",
    "    if (\n",
    "        webapp_settings.get_raw()[\"type\"]\n",
    "        == \"webapp_editable-via-webapp_edit-dataset-records\"\n",
    "    ):\n",
    "        webapp.stop_backend()\n",
    "        webapp_settings.get_raw()[\"type\"] = \"webapp_visual-edit_visual-edit\"\n",
    "        webapp_settings.save()\n",
    "        print(\n",
    "            f\"Changed type of {webapp_settings.get_raw()['name']} to 'webapp_visual-edit_visual-edit'\"\n",
    "        )\n",
    "        webapp.start_or_restart_backend()"
   ]
  }
 ],
 "metadata": {
  "createdOn": 1724681078792,
  "creator": "louis.dorard@dataiku.com",
  "customFields": {},
  "hide_input": false,
  "kernelspec": {
   "display_name": "Python 3 (ipykernel)",
   "language": "python",
   "name": "python3"
  },
  "language_info": {
   "codemirror_mode": {
    "name": "ipython",
    "version": 3
   },
   "file_extension": ".py",
   "mimetype": "text/x-python",
   "name": "python",
   "nbconvert_exporter": "python",
   "pygments_lexer": "ipython3",
   "version": "3.9.19"
  },
  "modifiedBy": "louis.dorard@dataiku.com",
  "tags": [],
  "versionNumber": 1
 },
 "nbformat": 4,
 "nbformat_minor": 1
}
